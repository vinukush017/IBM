{
 "cells": [
  {
   "cell_type": "markdown",
   "metadata": {},
   "source": [
    "\n",
    "# Capston Project-The Battle of Neighborhoods\n",
    "\n",
    "### Applied Data Science Capston Project\n",
    "\n",
    "#### 1.Introduction\n",
    "\n",
    "#### 1.1 Background\n",
    "Toronto is the capital city of the province of Ontario Canada. The city is famous for business, finance, technology, quality education, and so on. This city is one of the largest and multicultural and cosmopolitan cities in North America. It has diverse demography with people from all over the world and one of the popular destinations for immigrants from Asia. Southeast Asia’s culture and cuisine, especially that of the Indian community, can be found here due to their dominant population.\n",
    "\n",
    "#### 1.2 Problem\n",
    "Indian cuisine is very popular in the city which has created good business for an Indian restaurant. As the population of the South Asian community around the metropolitan area is increasing, the demand for a restaurant with authentic south Asian recipes is also increasing. But due to various reason investor are unable to identify the proper location to open the restaurant. Restaurant of similar type is clustered within the specific area which has not only increased competition within small customer number but also has greatly hindered the profitability.\n",
    "\n",
    "#### 1.3 Interest\n",
    "This project is intended to provide a valuable answer to those stakeholders who are thinking of doing business-related in this sector. Moreover, this project will focus on choosing the appropriate location to open Indian restaurants which are not crowded with these types. Also, this project will determine the neighborhoods where there is a higher demand for Indian cuisines.\n",
    "\n",
    "The goal is to use FourSquare API to extract the geographical information for the neighborhoods of Toronto and identify the venues with a lesser number of Indian Restaurant within the area."
   ]
  },
  {
   "cell_type": "code",
   "execution_count": null,
   "metadata": {},
   "outputs": [],
   "source": []
  }
 ],
 "metadata": {
  "kernelspec": {
   "display_name": "Python (loan)",
   "language": "python",
   "name": "loan"
  },
  "language_info": {
   "codemirror_mode": {
    "name": "ipython",
    "version": 3
   },
   "file_extension": ".py",
   "mimetype": "text/x-python",
   "name": "python",
   "nbconvert_exporter": "python",
   "pygments_lexer": "ipython3",
   "version": "3.7.10"
  }
 },
 "nbformat": 4,
 "nbformat_minor": 4
}
